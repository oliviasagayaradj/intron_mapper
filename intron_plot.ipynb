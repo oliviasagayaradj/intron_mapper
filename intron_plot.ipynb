{
 "cells": [
  {
   "cell_type": "code",
<<<<<<< HEAD
   "execution_count": 11,
=======
   "execution_count": 2,
>>>>>>> 46fecebf3908a636f3d35002ef8c61af9d29aef1
   "id": "5671bcbf",
   "metadata": {},
   "outputs": [],
   "source": [
    "from Bio import SeqIO\n",
    "\n",
    "import os\n",
    "import fnmatch\n",
    "import gffpandas.gffpandas as gffpd\n",
    "\n",
    "import matplotlib.pyplot as plt\n",
    "import numpy as np\n"
   ]
  },
  {
   "cell_type": "code",
<<<<<<< HEAD
   "execution_count": 12,
=======
   "execution_count": 3,
>>>>>>> 46fecebf3908a636f3d35002ef8c61af9d29aef1
   "id": "ca34c8bc",
   "metadata": {},
   "outputs": [],
   "source": [
    "annotation = gffpd.read_gff3('gff/10015.gff')"
   ]
  },
  {
   "cell_type": "code",
<<<<<<< HEAD
   "execution_count": 13,
=======
   "execution_count": 4,
>>>>>>> 46fecebf3908a636f3d35002ef8c61af9d29aef1
   "id": "1b0d2e79",
   "metadata": {},
   "outputs": [
    {
     "name": "stdout",
     "output_type": "stream",
     "text": [
      "           seq_id source  type  start   end score strand phase  \\\n",
      "0     tig00000074  maker  gene   2707  6575     .      -     .   \n",
      "1     tig00000074  maker  mRNA   2707  6575     .      -     .   \n",
      "2     tig00000074  maker  exon   5938  6575     .      -     .   \n",
      "3     tig00000074  maker  exon   5778  5851     .      -     .   \n",
      "4     tig00000074  maker  exon   4747  5765     .      -     .   \n",
      "...           ...    ...   ...    ...   ...   ...    ...   ...   \n",
      "4836  tig00000103  maker   CDS   3623  4261     .      +     0   \n",
      "4837  tig00000103  maker  gene   3730  4080     .      -     .   \n",
      "4838  tig00000103  maker  mRNA   3730  4080     .      -     .   \n",
      "4839  tig00000103  maker  exon   3730  4080     .      -     .   \n",
      "4840  tig00000103  maker   CDS   3730  4080     .      -     0   \n",
      "\n",
      "                                             attributes  \n",
      "0     ID=10015|G379;Alias=maker-tig00000074-snap-gen...  \n",
      "1     ID=10015|T379-R1;Parent=10015|G379;Alias=maker...  \n",
      "2               ID=10015|T379-R1:7;Parent=10015|T379-R1  \n",
      "3               ID=10015|T379-R1:6;Parent=10015|T379-R1  \n",
      "4               ID=10015|T379-R1:5;Parent=10015|T379-R1  \n",
      "...                                                 ...  \n",
      "4836          ID=10015|T425-R1:cds;Parent=10015|T425-R1  \n",
      "4837  ID=10015|G426;Alias=snap_masked-tig00000103-pr...  \n",
      "4838  ID=10015|T426-R1;Parent=10015|G426;Alias=snap_...  \n",
      "4839            ID=10015|T426-R1:1;Parent=10015|T426-R1  \n",
      "4840          ID=10015|T426-R1:cds;Parent=10015|T426-R1  \n",
      "\n",
      "[4841 rows x 9 columns]\n"
     ]
    }
   ],
   "source": [
    "print(annotation.df)"
   ]
  },
  {
   "cell_type": "code",
<<<<<<< HEAD
   "execution_count": 14,
=======
   "execution_count": 5,
>>>>>>> 46fecebf3908a636f3d35002ef8c61af9d29aef1
   "id": "809ab829",
   "metadata": {},
   "outputs": [],
   "source": [
    "df = annotation.df"
   ]
  },
  {
   "cell_type": "code",
<<<<<<< HEAD
   "execution_count": 15,
=======
   "execution_count": 18,
>>>>>>> 46fecebf3908a636f3d35002ef8c61af9d29aef1
   "id": "9213594c",
   "metadata": {
    "scrolled": true
   },
   "outputs": [
    {
     "data": {
      "text/html": [
       "<div>\n",
       "<style scoped>\n",
       "    .dataframe tbody tr th:only-of-type {\n",
       "        vertical-align: middle;\n",
       "    }\n",
       "\n",
       "    .dataframe tbody tr th {\n",
       "        vertical-align: top;\n",
       "    }\n",
       "\n",
       "    .dataframe thead th {\n",
       "        text-align: right;\n",
       "    }\n",
       "</style>\n",
       "<table border=\"1\" class=\"dataframe\">\n",
       "  <thead>\n",
       "    <tr style=\"text-align: right;\">\n",
       "      <th></th>\n",
       "      <th>seq_id</th>\n",
       "      <th>source</th>\n",
       "      <th>type</th>\n",
       "      <th>start</th>\n",
       "      <th>end</th>\n",
       "      <th>score</th>\n",
       "      <th>strand</th>\n",
       "      <th>phase</th>\n",
       "      <th>attributes</th>\n",
       "    </tr>\n",
       "  </thead>\n",
       "  <tbody>\n",
       "    <tr>\n",
       "      <th>0</th>\n",
       "      <td>tig00000074</td>\n",
       "      <td>maker</td>\n",
       "      <td>gene</td>\n",
       "      <td>2707</td>\n",
       "      <td>6575</td>\n",
       "      <td>.</td>\n",
       "      <td>-</td>\n",
       "      <td>.</td>\n",
       "      <td>ID=10015|G379;Alias=maker-tig00000074-snap-gen...</td>\n",
       "    </tr>\n",
       "    <tr>\n",
       "      <th>1</th>\n",
       "      <td>tig00000074</td>\n",
       "      <td>maker</td>\n",
       "      <td>mRNA</td>\n",
       "      <td>2707</td>\n",
       "      <td>6575</td>\n",
       "      <td>.</td>\n",
       "      <td>-</td>\n",
       "      <td>.</td>\n",
       "      <td>ID=10015|T379-R1;Parent=10015|G379;Alias=maker...</td>\n",
       "    </tr>\n",
       "    <tr>\n",
       "      <th>2</th>\n",
       "      <td>tig00000074</td>\n",
       "      <td>maker</td>\n",
       "      <td>exon</td>\n",
       "      <td>5938</td>\n",
       "      <td>6575</td>\n",
       "      <td>.</td>\n",
       "      <td>-</td>\n",
       "      <td>.</td>\n",
       "      <td>ID=10015|T379-R1:7;Parent=10015|T379-R1</td>\n",
       "    </tr>\n",
       "    <tr>\n",
       "      <th>3</th>\n",
       "      <td>tig00000074</td>\n",
       "      <td>maker</td>\n",
       "      <td>exon</td>\n",
       "      <td>5778</td>\n",
       "      <td>5851</td>\n",
       "      <td>.</td>\n",
       "      <td>-</td>\n",
       "      <td>.</td>\n",
       "      <td>ID=10015|T379-R1:6;Parent=10015|T379-R1</td>\n",
       "    </tr>\n",
       "    <tr>\n",
       "      <th>4</th>\n",
       "      <td>tig00000074</td>\n",
       "      <td>maker</td>\n",
       "      <td>exon</td>\n",
       "      <td>4747</td>\n",
       "      <td>5765</td>\n",
       "      <td>.</td>\n",
       "      <td>-</td>\n",
       "      <td>.</td>\n",
       "      <td>ID=10015|T379-R1:5;Parent=10015|T379-R1</td>\n",
       "    </tr>\n",
       "    <tr>\n",
       "      <th>...</th>\n",
       "      <td>...</td>\n",
       "      <td>...</td>\n",
       "      <td>...</td>\n",
       "      <td>...</td>\n",
       "      <td>...</td>\n",
       "      <td>...</td>\n",
       "      <td>...</td>\n",
       "      <td>...</td>\n",
       "      <td>...</td>\n",
       "    </tr>\n",
       "    <tr>\n",
       "      <th>95</th>\n",
       "      <td>tig00000085</td>\n",
       "      <td>webapollo</td>\n",
       "      <td>CDS</td>\n",
       "      <td>4615</td>\n",
       "      <td>6320</td>\n",
       "      <td>.</td>\n",
       "      <td>+</td>\n",
       "      <td>2</td>\n",
       "      <td>ID=540d912a-e0fb-4c7c-8056-98766cdb9d33-CDS;Pa...</td>\n",
       "    </tr>\n",
       "    <tr>\n",
       "      <th>96</th>\n",
       "      <td>tig00000085</td>\n",
       "      <td>webapollo</td>\n",
       "      <td>exon</td>\n",
       "      <td>2781</td>\n",
       "      <td>3686</td>\n",
       "      <td>.</td>\n",
       "      <td>+</td>\n",
       "      <td>.</td>\n",
       "      <td>ID=0461e877-32f8-4bc6-9cd8-0182c4c4b9a2-exon;P...</td>\n",
       "    </tr>\n",
       "    <tr>\n",
       "      <th>97</th>\n",
       "      <td>tig00000085</td>\n",
       "      <td>webapollo</td>\n",
       "      <td>exon</td>\n",
       "      <td>3803</td>\n",
       "      <td>3949</td>\n",
       "      <td>.</td>\n",
       "      <td>+</td>\n",
       "      <td>.</td>\n",
       "      <td>ID=f1340b4d-e13b-44fe-89fc-5adeb09a383a-exon;P...</td>\n",
       "    </tr>\n",
       "    <tr>\n",
       "      <th>98</th>\n",
       "      <td>tig00000085</td>\n",
       "      <td>maker</td>\n",
       "      <td>gene</td>\n",
       "      <td>7077</td>\n",
       "      <td>8500</td>\n",
       "      <td>.</td>\n",
       "      <td>-</td>\n",
       "      <td>.</td>\n",
       "      <td>ID=10015|G326;Alias=maker-tig00000085-augustus...</td>\n",
       "    </tr>\n",
       "    <tr>\n",
       "      <th>99</th>\n",
       "      <td>tig00000085</td>\n",
       "      <td>maker</td>\n",
       "      <td>mRNA</td>\n",
       "      <td>7077</td>\n",
       "      <td>8500</td>\n",
       "      <td>.</td>\n",
       "      <td>-</td>\n",
       "      <td>.</td>\n",
       "      <td>ID=10015|T326-R1;Parent=10015|G326;Alias=maker...</td>\n",
       "    </tr>\n",
       "  </tbody>\n",
       "</table>\n",
       "<p>100 rows × 9 columns</p>\n",
       "</div>"
      ],
      "text/plain": [
       "         seq_id     source  type  start   end score strand phase  \\\n",
       "0   tig00000074      maker  gene   2707  6575     .      -     .   \n",
       "1   tig00000074      maker  mRNA   2707  6575     .      -     .   \n",
       "2   tig00000074      maker  exon   5938  6575     .      -     .   \n",
       "3   tig00000074      maker  exon   5778  5851     .      -     .   \n",
       "4   tig00000074      maker  exon   4747  5765     .      -     .   \n",
       "..          ...        ...   ...    ...   ...   ...    ...   ...   \n",
       "95  tig00000085  webapollo   CDS   4615  6320     .      +     2   \n",
       "96  tig00000085  webapollo  exon   2781  3686     .      +     .   \n",
       "97  tig00000085  webapollo  exon   3803  3949     .      +     .   \n",
       "98  tig00000085      maker  gene   7077  8500     .      -     .   \n",
       "99  tig00000085      maker  mRNA   7077  8500     .      -     .   \n",
       "\n",
       "                                           attributes  \n",
       "0   ID=10015|G379;Alias=maker-tig00000074-snap-gen...  \n",
       "1   ID=10015|T379-R1;Parent=10015|G379;Alias=maker...  \n",
       "2             ID=10015|T379-R1:7;Parent=10015|T379-R1  \n",
       "3             ID=10015|T379-R1:6;Parent=10015|T379-R1  \n",
       "4             ID=10015|T379-R1:5;Parent=10015|T379-R1  \n",
       "..                                                ...  \n",
       "95  ID=540d912a-e0fb-4c7c-8056-98766cdb9d33-CDS;Pa...  \n",
       "96  ID=0461e877-32f8-4bc6-9cd8-0182c4c4b9a2-exon;P...  \n",
       "97  ID=f1340b4d-e13b-44fe-89fc-5adeb09a383a-exon;P...  \n",
       "98  ID=10015|G326;Alias=maker-tig00000085-augustus...  \n",
       "99  ID=10015|T326-R1;Parent=10015|G326;Alias=maker...  \n",
       "\n",
       "[100 rows x 9 columns]"
      ]
     },
     "execution_count": 18,
     "metadata": {},
     "output_type": "execute_result"
    }
   ],
   "source": [
    "df.head(100)"
   ]
  },
  {
   "cell_type": "code",
   "execution_count": 27,
   "id": "ac359166",
   "metadata": {},
   "outputs": [
    {
     "data": {
      "text/plain": [
       "0       False\n",
       "1        True\n",
       "2       False\n",
       "3       False\n",
       "4       False\n",
       "        ...  \n",
       "4836    False\n",
       "4837    False\n",
       "4838     True\n",
       "4839    False\n",
       "4840    False\n",
       "Name: type, Length: 4841, dtype: bool"
      ]
     },
     "execution_count": 27,
     "metadata": {},
     "output_type": "execute_result"
    }
   ],
   "source": [
    "df['type']=='mRNA'"
   ]
  },
  {
   "cell_type": "code",
   "execution_count": 41,
   "id": "d75c2c75",
   "metadata": {},
   "outputs": [
    {
     "data": {
      "text/plain": [
       "True"
      ]
     },
     "execution_count": 41,
     "metadata": {},
     "output_type": "execute_result"
    }
   ],
   "source": [
    "#make a list of gene id's\n",
    "\n",
    "#list comprehension\n",
    "gene_l = [attr.split('|')[1].split(';')[0] for attr in df['attributes'][df['type']=='mRNA']]\n",
    "\n",
    "#for loop\n",
    "if False:\n",
    "    gene_l = []\n",
    "    for attr in df['attributes'][df['type']=='mRNA']:\n",
    "        gene_l.append(attr.split('|')[1].split(';')[0])\n",
    "        \n",
    "#check if there are no redundancies in gene list\n",
    "len(gene_l) == len(set(gene_l))"
   ]
  },
  {
   "cell_type": "code",
   "execution_count": 21,
   "id": "caa5f8f2",
   "metadata": {},
   "outputs": [],
   "source": [
    "#Searching the table for exons in a gene. Finds non-contiguous annotations.\n",
    "\n",
    "gene_id = 'T378-R1'\n",
    "\n",
    "exon_coord_l = []\n",
    "\n",
    "for ii in range(df.shape[0]):\n",
    "    if df.iloc[ii]['type'] == 'exon':\n",
    "        if df.iloc[ii]['attributes'].split('|')[1].split(';')[0].startswith(gene_id):\n",
    "            exon_coord_l.append((df.iloc[ii]['start'], df.iloc[ii]['end']))            "
   ]
  },
  {
   "cell_type": "code",
   "execution_count": null,
   "id": "dbf98c5e",
   "metadata": {},
   "outputs": [],
   "source": [
    "#A more efficient way of searching the table. Doesn't find non-contiguous annotations, though.\n",
    "\n",
    "gene_id = 'T378-R1'\n",
    "\n",
    "foundGene = False\n",
    "exon_coord_l = []\n",
    "\n",
    "for ii in range(df.shape[0]):\n",
    "    if df.iloc[ii]['type'] == 'mRNA':\n",
    "        if not foundGene:\n",
    "            if df.iloc[ii]['attributes'].split('|')[1].split(';')[0] == gene_id:\n",
    "                foundGene = True\n",
    "        else:\n",
    "            break\n",
    "    elif df.iloc[ii]['type'] == 'exon':\n",
    "        if foundGene:\n",
    "            exon_coord_l.append((df.iloc[ii]['start'], df.iloc[ii]['end']))            "
   ]
  },
  {
   "cell_type": "code",
   "execution_count": 17,
   "id": "1c5d35e4",
   "metadata": {},
   "outputs": [
    {
     "data": {
      "text/plain": [
       "[(1559, 1743),\n",
       " (1417, 1473),\n",
       " (1298, 1316),\n",
       " (1139, 1206),\n",
       " (1007, 1022),\n",
       " (869, 930),\n",
       " (685, 781),\n",
       " (547, 603),\n",
       " (1, 465)]"
      ]
     },
<<<<<<< HEAD
     "execution_count": 15,
=======
     "execution_count": 17,
>>>>>>> 46fecebf3908a636f3d35002ef8c61af9d29aef1
     "metadata": {},
     "output_type": "execute_result"
    }
   ],
   "source": [
    "exon_coord_l"
   ]
  },
  {
   "cell_type": "code",
<<<<<<< HEAD
   "execution_count": 16,
   "id": "b62fff8f",
   "metadata": {},
   "outputs": [
    {
     "data": {
      "text/plain": [
       "0       False\n",
       "1        True\n",
       "2       False\n",
       "3       False\n",
       "4       False\n",
       "        ...  \n",
       "4836    False\n",
       "4837    False\n",
       "4838     True\n",
       "4839    False\n",
       "4840    False\n",
       "Name: type, Length: 4841, dtype: bool"
      ]
     },
     "execution_count": 16,
     "metadata": {},
     "output_type": "execute_result"
    }
   ],
   "source": [
    "df['type']=='mRNA'"
   ]
  },
  {
   "cell_type": "code",
   "execution_count": 17,
   "id": "f912aba8",
   "metadata": {},
   "outputs": [
    {
     "data": {
      "text/plain": [
       "True"
      ]
     },
     "execution_count": 17,
     "metadata": {},
     "output_type": "execute_result"
    }
   ],
   "source": [
    "#make a list of gene id's\n",
    "\n",
    "#list comprehension\n",
    "gene_l = [attr.split('|')[1].split(';')[0] for attr in df['attributes'][df['type']=='mRNA']]\n",
    "\n",
    "#for loop\n",
    "if False:\n",
    "    gene_l = []\n",
    "    for attr in df['attributes'][df['type']=='mRNA']:\n",
    "        gene_l.append(attr.split('|')[1].split(';')[0])\n",
    "        \n",
    "#check if there are no redundancies in gene list\n",
    "len(gene_l) == len(set(gene_l))"
   ]
  },
  {
   "cell_type": "code",
   "execution_count": 65,
   "id": "8a3460bd",
=======
   "execution_count": null,
   "id": "74939d52",
>>>>>>> 46fecebf3908a636f3d35002ef8c61af9d29aef1
   "metadata": {},
   "outputs": [],
   "source": [
    "#Searching the table for exons in a gene. Finds non-contiguous annotations.\n",
    "\n",
    "gene_id = 'T378-R1'\n",
    "\n",
    "exon_coord_l = []\n",
    "\n",
    "for ii in range(df.shape[0]):\n",
    "    if df.iloc[ii]['type'] == 'exon':\n",
    "        if df.iloc[ii]['attributes'].split('|')[1].split(';')[0].startswith(gene_id):\n",
    "            exon_coord_l.append((df.iloc[ii]['start'], df.iloc[ii]['end']))   "
   ]
  },
  {
   "cell_type": "code",
   "execution_count": 63,
   "id": "3547a6d9",
   "metadata": {},
   "outputs": [],
   "source": [
    "#A more efficient way of searching the table. Doesn't find non-contiguous annotations, though.\n",
    "\n",
    "gene_id = 'T378-R1'\n",
    "\n",
    "foundGene = False\n",
    "exon_coord_l = []\n",
    "\n",
    "for ii in range(df.shape[0]):\n",
    "    if df.iloc[ii]['type'] == 'mRNA':\n",
    "        if not foundGene:\n",
    "            if df.iloc[ii]['attributes'].split('|')[1].split(';')[0] == gene_id:\n",
    "                foundGene = True\n",
    "        else:\n",
    "            break\n",
    "    elif df.iloc[ii]['type'] == 'exon':\n",
    "        if foundGene:\n",
    "            exon_coord_l.append((df.iloc[ii]['start'], df.iloc[ii]['end']))     "
   ]
  },
  {
   "cell_type": "code",
   "execution_count": 64,
   "id": "6ef8155c",
   "metadata": {
    "scrolled": false
   },
   "outputs": [
    {
     "data": {
      "text/plain": [
       "[(1559, 1743),\n",
       " (1417, 1473),\n",
       " (1298, 1316),\n",
       " (1139, 1206),\n",
       " (1007, 1022),\n",
       " (869, 930),\n",
       " (685, 781),\n",
       " (547, 603),\n",
       " (1, 465)]"
      ]
     },
     "execution_count": 64,
     "metadata": {},
     "output_type": "execute_result"
    }
   ],
   "source": [
    "exon_coord_l"
   ]
  },
  {
   "cell_type": "code",
   "execution_count": null,
   "id": "6ee69f83",
   "metadata": {},
   "outputs": [],
   "source": [
    "gene_id = 'T378-R1'\n",
    "\n",
    "foundGene = False\n",
    "exon_start_l = []\n",
    "exon_end_l = []\n",
    "\n",
    "for ii in range(df.shape[0]):\n",
    "    if df.iloc[ii]['type'] == 'mRNA':\n",
    "        if not foundGene:\n",
    "            if df.iloc[ii]['attributes'].split('|')[1].split(';')[0] == gene_id:\n",
    "                foundGene = True\n",
    "        else:\n",
    "            break\n",
    "    elif df.iloc[ii]['type'] == 'exon':\n",
    "        if foundGene:\n",
    "            exon_start_l.append(df.iloc[ii]['start'])\n",
    "            exon_end_l.append(df.iloc[ii]['end'])"
   ]
  },
  {
   "cell_type": "code",
   "execution_count": 81,
   "id": "7df305cf",
   "metadata": {},
   "outputs": [
    {
     "data": {
      "text/plain": [
       "[(1559, 1743),\n",
       " (1417, 1473),\n",
       " (1298, 1316),\n",
       " (1139, 1206),\n",
       " (1007, 1022),\n",
       " (869, 930),\n",
       " (685, 781),\n",
       " (547, 603),\n",
       " (1, 465)]"
      ]
     },
     "execution_count": 81,
     "metadata": {},
     "output_type": "execute_result"
    }
   ],
   "source": [
    "list(zip(exon_start_l, exon_end_l))"
   ]
  },
  {
   "cell_type": "code",
   "execution_count": 82,
   "id": "dd3feb63",
   "metadata": {},
   "outputs": [
    {
     "data": {
      "image/png": "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\n",
      "text/plain": [
       "<Figure size 720x504 with 1 Axes>"
      ]
     },
     "metadata": {
      "needs_background": "light"
     },
     "output_type": "display_data"
    }
   ],
   "source": [
    "import matplotlib.pyplot as plt\n",
    "\n",
<<<<<<< HEAD
    "plt.figure(figsize = (10, 7))\n",
    "\n",
    "plt.plot(x, y)\n",
    "\n",
    "for xmin, xmax in zip(exon_start_l, exon_end_l):\n",
    "    plt.hlines(y, xmin = xmin, xmax = xmax, color = 'b')"
=======
    "for x, y in zip(exon_start_l, exon_end_l):\n",
    "    if x >= geneStart and x <= geneEnd: \n",
    "        gene_exon_start_l.append(x)\n",
    "    if y >= geneStart and y <= geneEnd: \n",
    "        gene_exon_end_l.append(y)"
>>>>>>> 46fecebf3908a636f3d35002ef8c61af9d29aef1
   ]
  },
  {
   "cell_type": "code",
   "execution_count": 42,
   "id": "ab933bdf",
   "metadata": {
    "scrolled": true
   },
   "outputs": [
    {
     "data": {
      "text/plain": [
       "Text(0.5, 1.0, 'ID=10015|G379;Alias=maker-tig00000074-snap-gene-0.6;Name=10015|G379;NLR=TNL')"
      ]
     },
     "execution_count": 42,
     "metadata": {},
     "output_type": "execute_result"
    },
    {
     "data": {
      "image/png": "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\n",
      "text/plain": [
       "<Figure size 720x504 with 1 Axes>"
      ]
     },
     "metadata": {
      "needs_background": "light"
     },
     "output_type": "display_data"
    }
   ],
   "source": [
    "xs = [1, 100]\n",
    "\n",
    "plt.figure(figsize = (10, 7))\n",
    "\n",
    "plt.vlines(x = gene_exon_start_l, ymin = 0, ymax = max(xs),\n",
    "           colors = 'blue',\n",
    "           label = 'vline_multiple - full height')\n",
    "\n",
    "plt.vlines(x = gene_exon_end_l, ymin = 0, ymax = max(xs),\n",
    "           colors = 'red',\n",
    "           label = 'vline_multiple - full height')\n",
    "\n",
    "plt.title(\"ID=10015|G379;Alias=maker-tig00000074-snap-gene-0.6;Name=10015|G379;NLR=TNL\")"
   ]
  },
  {
   "cell_type": "code",
   "execution_count": null,
   "id": "f0c2b493",
   "metadata": {},
   "outputs": [],
   "source": []
  },
  {
   "cell_type": "code",
   "execution_count": null,
   "id": "fc61d76d",
   "metadata": {},
   "outputs": [],
   "source": [
    "exon_start_l = []\n",
    "exon_end_l = []\n",
    "\n",
    "gene_exon_start_l = []\n",
    "gene_exon_end_l = []\n",
    "\n",
    "geneStart = 2707\n",
    "geneEnd = 6575\n",
    "\n",
    "for ii in range(df.shape[0]):\n",
    "    if df.iloc[ii]['seq_id'] == 'tig00000074':\n",
    "        if df.iloc[ii]['type'] == 'exon':\n",
    "            exon_start_l.append(df.iloc[ii]['start'])\n",
    "# print(exon_start_l)\n",
    "            exon_end_l.append(df.iloc[ii]['end'])\n",
    "# print(exon_end_l)\n",
    "\n",
    "for x, y in zip(exon_start_l, exon_end_l):\n",
    "    if x >= geneStart and x <= geneEnd: \n",
    "        gene_exon_start_l.append(x)\n",
    "    if y >= geneStart and y <= geneEnd: \n",
    "        gene_exon_end_l.append(y)"
   ]
  },
  {
   "cell_type": "code",
   "execution_count": 23,
   "id": "ef849b14",
   "metadata": {},
   "outputs": [
    {
     "data": {
      "text/plain": [
       "Text(0.5, 1.0, 'ID=10015|G379;Alias=maker-tig00000074-snap-gene-0.6;Name=10015|G379;NLR=TNL')"
      ]
     },
     "execution_count": 23,
     "metadata": {},
     "output_type": "execute_result"
    },
    {
     "data": {
      "image/png": "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\n",
      "text/plain": [
       "<Figure size 720x504 with 1 Axes>"
      ]
     },
     "metadata": {
      "needs_background": "light"
     },
     "output_type": "display_data"
    }
   ],
   "source": [
    "combined_l = []\n",
    "for jj, end in enumerate(gene_exon_end_l):\n",
    "    combined_l.append((gene_exon_start_l[jj], end))\n",
    "# print(combined_l)\n",
    "\n",
    "xs = [1, 100]\n",
    "\n",
    "plt.figure(figsize = (10, 7))\n",
    "\n",
    "plt.vlines(x = combined_l[0], ymin = 0, ymax = max(xs),\n",
    "           colors = 'red',\n",
    "           label = 'vline_multiple - full height')\n",
    "\n",
    "plt.vlines(x = combined_l[1], ymin = 0, ymax = max(xs),\n",
    "           colors = 'orange',\n",
    "           label = 'vline_multiple - full height')\n",
    "\n",
    "plt.vlines(x = combined_l[2], ymin = 0, ymax = max(xs),\n",
    "           colors = 'yellow',\n",
    "           label = 'vline_multiple - full height')\n",
    "\n",
    "plt.vlines(x = combined_l[3], ymin = 0, ymax = max(xs),\n",
    "           colors = 'green',\n",
    "           label = 'vline_multiple - full height')\n",
    "\n",
    "plt.vlines(x = combined_l[4], ymin = 0, ymax = max(xs),\n",
    "           colors = 'blue',\n",
    "           label = 'vline_multiple - full height')\n",
    "\n",
    "plt.vlines(x = combined_l[5], ymin = 0, ymax = max(xs),\n",
    "           colors = 'purple',\n",
    "           label = 'vline_multiple - full height')\n",
    "\n",
    "plt.vlines(x = combined_l[6], ymin = 0, ymax = max(xs),\n",
    "           colors = 'pink',\n",
    "           label = 'vline_multiple - full height')\n",
    "plt.title(\"ID=10015|G379;Alias=maker-tig00000074-snap-gene-0.6;Name=10015|G379;NLR=TNL\")"
   ]
  },
  {
   "cell_type": "code",
   "execution_count": null,
   "id": "2a4c0fe6",
   "metadata": {},
   "outputs": [],
   "source": []
  }
 ],
 "metadata": {
  "kernelspec": {
   "display_name": "Python 3 (ipykernel)",
   "language": "python",
   "name": "python3"
  },
  "language_info": {
   "codemirror_mode": {
    "name": "ipython",
    "version": 3
   },
   "file_extension": ".py",
   "mimetype": "text/x-python",
   "name": "python",
   "nbconvert_exporter": "python",
   "pygments_lexer": "ipython3",
   "version": "3.9.12"
  }
 },
 "nbformat": 4,
 "nbformat_minor": 5
}
