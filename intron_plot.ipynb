{
 "cells": [
  {
   "cell_type": "code",
   "execution_count": 2,
   "id": "5671bcbf",
   "metadata": {},
   "outputs": [],
   "source": [
    "from Bio import SeqIO\n",
    "\n",
    "import os\n",
    "import fnmatch\n",
    "import gffpandas.gffpandas as gffpd\n",
    "\n",
    "import matplotlib.pyplot as plt\n",
    "import numpy as np\n"
   ]
  },
  {
   "cell_type": "code",
   "execution_count": 3,
   "id": "ca34c8bc",
   "metadata": {},
   "outputs": [],
   "source": [
    "annotation = gffpd.read_gff3('gff/10015.gff')"
   ]
  },
  {
   "cell_type": "code",
   "execution_count": 4,
   "id": "1b0d2e79",
   "metadata": {},
   "outputs": [
    {
     "name": "stdout",
     "output_type": "stream",
     "text": [
      "           seq_id source  type  start   end score strand phase  \\\n",
      "0     tig00000074  maker  gene   2707  6575     .      -     .   \n",
      "1     tig00000074  maker  mRNA   2707  6575     .      -     .   \n",
      "2     tig00000074  maker  exon   5938  6575     .      -     .   \n",
      "3     tig00000074  maker  exon   5778  5851     .      -     .   \n",
      "4     tig00000074  maker  exon   4747  5765     .      -     .   \n",
      "...           ...    ...   ...    ...   ...   ...    ...   ...   \n",
      "4836  tig00000103  maker   CDS   3623  4261     .      +     0   \n",
      "4837  tig00000103  maker  gene   3730  4080     .      -     .   \n",
      "4838  tig00000103  maker  mRNA   3730  4080     .      -     .   \n",
      "4839  tig00000103  maker  exon   3730  4080     .      -     .   \n",
      "4840  tig00000103  maker   CDS   3730  4080     .      -     0   \n",
      "\n",
      "                                             attributes  \n",
      "0     ID=10015|G379;Alias=maker-tig00000074-snap-gen...  \n",
      "1     ID=10015|T379-R1;Parent=10015|G379;Alias=maker...  \n",
      "2               ID=10015|T379-R1:7;Parent=10015|T379-R1  \n",
      "3               ID=10015|T379-R1:6;Parent=10015|T379-R1  \n",
      "4               ID=10015|T379-R1:5;Parent=10015|T379-R1  \n",
      "...                                                 ...  \n",
      "4836          ID=10015|T425-R1:cds;Parent=10015|T425-R1  \n",
      "4837  ID=10015|G426;Alias=snap_masked-tig00000103-pr...  \n",
      "4838  ID=10015|T426-R1;Parent=10015|G426;Alias=snap_...  \n",
      "4839            ID=10015|T426-R1:1;Parent=10015|T426-R1  \n",
      "4840          ID=10015|T426-R1:cds;Parent=10015|T426-R1  \n",
      "\n",
      "[4841 rows x 9 columns]\n"
     ]
    }
   ],
   "source": [
    "print(annotation.df)"
   ]
  },
  {
   "cell_type": "code",
   "execution_count": 5,
   "id": "809ab829",
   "metadata": {},
   "outputs": [],
   "source": [
    "df = annotation.df"
   ]
  },
  {
   "cell_type": "code",
   "execution_count": 18,
   "id": "9213594c",
   "metadata": {
    "scrolled": true
   },
   "outputs": [
    {
     "data": {
      "text/html": [
       "<div>\n",
       "<style scoped>\n",
       "    .dataframe tbody tr th:only-of-type {\n",
       "        vertical-align: middle;\n",
       "    }\n",
       "\n",
       "    .dataframe tbody tr th {\n",
       "        vertical-align: top;\n",
       "    }\n",
       "\n",
       "    .dataframe thead th {\n",
       "        text-align: right;\n",
       "    }\n",
       "</style>\n",
       "<table border=\"1\" class=\"dataframe\">\n",
       "  <thead>\n",
       "    <tr style=\"text-align: right;\">\n",
       "      <th></th>\n",
       "      <th>seq_id</th>\n",
       "      <th>source</th>\n",
       "      <th>type</th>\n",
       "      <th>start</th>\n",
       "      <th>end</th>\n",
       "      <th>score</th>\n",
       "      <th>strand</th>\n",
       "      <th>phase</th>\n",
       "      <th>attributes</th>\n",
       "    </tr>\n",
       "  </thead>\n",
       "  <tbody>\n",
       "    <tr>\n",
       "      <th>0</th>\n",
       "      <td>tig00000074</td>\n",
       "      <td>maker</td>\n",
       "      <td>gene</td>\n",
       "      <td>2707</td>\n",
       "      <td>6575</td>\n",
       "      <td>.</td>\n",
       "      <td>-</td>\n",
       "      <td>.</td>\n",
       "      <td>ID=10015|G379;Alias=maker-tig00000074-snap-gen...</td>\n",
       "    </tr>\n",
       "    <tr>\n",
       "      <th>1</th>\n",
       "      <td>tig00000074</td>\n",
       "      <td>maker</td>\n",
       "      <td>mRNA</td>\n",
       "      <td>2707</td>\n",
       "      <td>6575</td>\n",
       "      <td>.</td>\n",
       "      <td>-</td>\n",
       "      <td>.</td>\n",
       "      <td>ID=10015|T379-R1;Parent=10015|G379;Alias=maker...</td>\n",
       "    </tr>\n",
       "    <tr>\n",
       "      <th>2</th>\n",
       "      <td>tig00000074</td>\n",
       "      <td>maker</td>\n",
       "      <td>exon</td>\n",
       "      <td>5938</td>\n",
       "      <td>6575</td>\n",
       "      <td>.</td>\n",
       "      <td>-</td>\n",
       "      <td>.</td>\n",
       "      <td>ID=10015|T379-R1:7;Parent=10015|T379-R1</td>\n",
       "    </tr>\n",
       "    <tr>\n",
       "      <th>3</th>\n",
       "      <td>tig00000074</td>\n",
       "      <td>maker</td>\n",
       "      <td>exon</td>\n",
       "      <td>5778</td>\n",
       "      <td>5851</td>\n",
       "      <td>.</td>\n",
       "      <td>-</td>\n",
       "      <td>.</td>\n",
       "      <td>ID=10015|T379-R1:6;Parent=10015|T379-R1</td>\n",
       "    </tr>\n",
       "    <tr>\n",
       "      <th>4</th>\n",
       "      <td>tig00000074</td>\n",
       "      <td>maker</td>\n",
       "      <td>exon</td>\n",
       "      <td>4747</td>\n",
       "      <td>5765</td>\n",
       "      <td>.</td>\n",
       "      <td>-</td>\n",
       "      <td>.</td>\n",
       "      <td>ID=10015|T379-R1:5;Parent=10015|T379-R1</td>\n",
       "    </tr>\n",
       "    <tr>\n",
       "      <th>...</th>\n",
       "      <td>...</td>\n",
       "      <td>...</td>\n",
       "      <td>...</td>\n",
       "      <td>...</td>\n",
       "      <td>...</td>\n",
       "      <td>...</td>\n",
       "      <td>...</td>\n",
       "      <td>...</td>\n",
       "      <td>...</td>\n",
       "    </tr>\n",
       "    <tr>\n",
       "      <th>95</th>\n",
       "      <td>tig00000085</td>\n",
       "      <td>webapollo</td>\n",
       "      <td>CDS</td>\n",
       "      <td>4615</td>\n",
       "      <td>6320</td>\n",
       "      <td>.</td>\n",
       "      <td>+</td>\n",
       "      <td>2</td>\n",
       "      <td>ID=540d912a-e0fb-4c7c-8056-98766cdb9d33-CDS;Pa...</td>\n",
       "    </tr>\n",
       "    <tr>\n",
       "      <th>96</th>\n",
       "      <td>tig00000085</td>\n",
       "      <td>webapollo</td>\n",
       "      <td>exon</td>\n",
       "      <td>2781</td>\n",
       "      <td>3686</td>\n",
       "      <td>.</td>\n",
       "      <td>+</td>\n",
       "      <td>.</td>\n",
       "      <td>ID=0461e877-32f8-4bc6-9cd8-0182c4c4b9a2-exon;P...</td>\n",
       "    </tr>\n",
       "    <tr>\n",
       "      <th>97</th>\n",
       "      <td>tig00000085</td>\n",
       "      <td>webapollo</td>\n",
       "      <td>exon</td>\n",
       "      <td>3803</td>\n",
       "      <td>3949</td>\n",
       "      <td>.</td>\n",
       "      <td>+</td>\n",
       "      <td>.</td>\n",
       "      <td>ID=f1340b4d-e13b-44fe-89fc-5adeb09a383a-exon;P...</td>\n",
       "    </tr>\n",
       "    <tr>\n",
       "      <th>98</th>\n",
       "      <td>tig00000085</td>\n",
       "      <td>maker</td>\n",
       "      <td>gene</td>\n",
       "      <td>7077</td>\n",
       "      <td>8500</td>\n",
       "      <td>.</td>\n",
       "      <td>-</td>\n",
       "      <td>.</td>\n",
       "      <td>ID=10015|G326;Alias=maker-tig00000085-augustus...</td>\n",
       "    </tr>\n",
       "    <tr>\n",
       "      <th>99</th>\n",
       "      <td>tig00000085</td>\n",
       "      <td>maker</td>\n",
       "      <td>mRNA</td>\n",
       "      <td>7077</td>\n",
       "      <td>8500</td>\n",
       "      <td>.</td>\n",
       "      <td>-</td>\n",
       "      <td>.</td>\n",
       "      <td>ID=10015|T326-R1;Parent=10015|G326;Alias=maker...</td>\n",
       "    </tr>\n",
       "  </tbody>\n",
       "</table>\n",
       "<p>100 rows × 9 columns</p>\n",
       "</div>"
      ],
      "text/plain": [
       "         seq_id     source  type  start   end score strand phase  \\\n",
       "0   tig00000074      maker  gene   2707  6575     .      -     .   \n",
       "1   tig00000074      maker  mRNA   2707  6575     .      -     .   \n",
       "2   tig00000074      maker  exon   5938  6575     .      -     .   \n",
       "3   tig00000074      maker  exon   5778  5851     .      -     .   \n",
       "4   tig00000074      maker  exon   4747  5765     .      -     .   \n",
       "..          ...        ...   ...    ...   ...   ...    ...   ...   \n",
       "95  tig00000085  webapollo   CDS   4615  6320     .      +     2   \n",
       "96  tig00000085  webapollo  exon   2781  3686     .      +     .   \n",
       "97  tig00000085  webapollo  exon   3803  3949     .      +     .   \n",
       "98  tig00000085      maker  gene   7077  8500     .      -     .   \n",
       "99  tig00000085      maker  mRNA   7077  8500     .      -     .   \n",
       "\n",
       "                                           attributes  \n",
       "0   ID=10015|G379;Alias=maker-tig00000074-snap-gen...  \n",
       "1   ID=10015|T379-R1;Parent=10015|G379;Alias=maker...  \n",
       "2             ID=10015|T379-R1:7;Parent=10015|T379-R1  \n",
       "3             ID=10015|T379-R1:6;Parent=10015|T379-R1  \n",
       "4             ID=10015|T379-R1:5;Parent=10015|T379-R1  \n",
       "..                                                ...  \n",
       "95  ID=540d912a-e0fb-4c7c-8056-98766cdb9d33-CDS;Pa...  \n",
       "96  ID=0461e877-32f8-4bc6-9cd8-0182c4c4b9a2-exon;P...  \n",
       "97  ID=f1340b4d-e13b-44fe-89fc-5adeb09a383a-exon;P...  \n",
       "98  ID=10015|G326;Alias=maker-tig00000085-augustus...  \n",
       "99  ID=10015|T326-R1;Parent=10015|G326;Alias=maker...  \n",
       "\n",
       "[100 rows x 9 columns]"
      ]
     },
     "execution_count": 18,
     "metadata": {},
     "output_type": "execute_result"
    }
   ],
   "source": [
    "df.head(100)"
   ]
  },
  {
   "cell_type": "code",
   "execution_count": 27,
   "id": "ac359166",
   "metadata": {},
   "outputs": [
    {
     "data": {
      "text/plain": [
       "0       False\n",
       "1        True\n",
       "2       False\n",
       "3       False\n",
       "4       False\n",
       "        ...  \n",
       "4836    False\n",
       "4837    False\n",
       "4838     True\n",
       "4839    False\n",
       "4840    False\n",
       "Name: type, Length: 4841, dtype: bool"
      ]
     },
     "execution_count": 27,
     "metadata": {},
     "output_type": "execute_result"
    }
   ],
   "source": [
    "df['type']=='mRNA'"
   ]
  },
  {
   "cell_type": "code",
   "execution_count": 41,
   "id": "d75c2c75",
   "metadata": {},
   "outputs": [
    {
     "data": {
      "text/plain": [
       "True"
      ]
     },
     "execution_count": 41,
     "metadata": {},
     "output_type": "execute_result"
    }
   ],
   "source": [
    "#make a list of gene id's\n",
    "\n",
    "#list comprehension\n",
    "gene_l = [attr.split('|')[1].split(';')[0] for attr in df['attributes'][df['type']=='mRNA']]\n",
    "\n",
    "#for loop\n",
    "if False:\n",
    "    gene_l = []\n",
    "    for attr in df['attributes'][df['type']=='mRNA']:\n",
    "        gene_l.append(attr.split('|')[1].split(';')[0])\n",
    "        \n",
    "#check if there are no redundancies in gene list\n",
    "len(gene_l) == len(set(gene_l))"
   ]
  },
  {
   "cell_type": "code",
   "execution_count": 21,
   "id": "caa5f8f2",
   "metadata": {},
   "outputs": [],
   "source": [
    "#Searching the table for exons in a gene. Finds non-contiguous annotations.\n",
    "\n",
    "gene_id = 'T378-R1'\n",
    "\n",
    "exon_coord_l = []\n",
    "\n",
    "for ii in range(df.shape[0]):\n",
    "    if df.iloc[ii]['type'] == 'exon':\n",
    "        if df.iloc[ii]['attributes'].split('|')[1].split(';')[0].startswith(gene_id):\n",
    "            exon_coord_l.append((df.iloc[ii]['start'], df.iloc[ii]['end']))            "
   ]
  },
  {
   "cell_type": "code",
   "execution_count": null,
   "id": "dbf98c5e",
   "metadata": {},
   "outputs": [],
   "source": [
    "#A more efficient way of searching the table. Doesn't find non-contiguous annotations, though.\n",
    "\n",
    "gene_id = 'T378-R1'\n",
    "\n",
    "foundGene = False\n",
    "exon_coord_l = []\n",
    "\n",
    "for ii in range(df.shape[0]):\n",
    "    if df.iloc[ii]['type'] == 'mRNA':\n",
    "        if not foundGene:\n",
    "            if df.iloc[ii]['attributes'].split('|')[1].split(';')[0] == gene_id:\n",
    "                foundGene = True\n",
    "        else:\n",
    "            break\n",
    "    elif df.iloc[ii]['type'] == 'exon':\n",
    "        if foundGene:\n",
    "            exon_coord_l.append((df.iloc[ii]['start'], df.iloc[ii]['end']))            "
   ]
  },
  {
   "cell_type": "code",
   "execution_count": 17,
   "id": "1c5d35e4",
   "metadata": {},
   "outputs": [
    {
     "data": {
      "text/plain": [
       "[(1559, 1743),\n",
       " (1417, 1473),\n",
       " (1298, 1316),\n",
       " (1139, 1206),\n",
       " (1007, 1022),\n",
       " (869, 930),\n",
       " (685, 781),\n",
       " (547, 603),\n",
       " (1, 465)]"
      ]
     },
     "execution_count": 17,
     "metadata": {},
     "output_type": "execute_result"
    }
   ],
   "source": [
    "exon_coord_l"
   ]
  },
  {
   "cell_type": "code",
   "execution_count": null,
   "id": "74939d52",
   "metadata": {},
   "outputs": [],
   "source": [
    "exon_start_l = []\n",
    "exon_end_l = []\n",
    "\n",
    "gene_exon_start_l = []\n",
    "gene_exon_end_l = []\n",
    "\n",
    "geneStart = 2707\n",
    "geneEnd = 6575\n",
    "\n",
    "for ii in range(df.shape[0]):\n",
    "    if df.iloc[ii]['seq_id'] == 'tig00000074':\n",
    "        if df.iloc[ii]['type'] == 'exon':\n",
    "            exon_start_l.append(df.iloc[ii]['start'])\n",
    "# print(exon_start_l)\n",
    "            exon_end_l.append(df.iloc[ii]['end'])\n",
    "# print(exon_end_l)\n",
    "\n",
    "for x, y in zip(exon_start_l, exon_end_l):\n",
    "    if x >= geneStart and x <= geneEnd: \n",
    "        gene_exon_start_l.append(x)\n",
    "    if y >= geneStart and y <= geneEnd: \n",
    "        gene_exon_end_l.append(y)"
   ]
  },
  {
   "cell_type": "code",
   "execution_count": 9,
   "id": "ab933bdf",
   "metadata": {
    "scrolled": true
   },
   "outputs": [
    {
     "data": {
      "text/plain": [
       "Text(0.5, 1.0, 'ID=10015|G379;Alias=maker-tig00000074-snap-gene-0.6;Name=10015|G379;NLR=TNL')"
      ]
     },
     "execution_count": 9,
     "metadata": {},
     "output_type": "execute_result"
    },
    {
     "data": {
      "image/png": "[encoded data removed]",
      "text/plain": [
       "<Figure size 720x504 with 1 Axes>"
      ]
     },
     "metadata": {
      "needs_background": "light"
     },
     "output_type": "display_data"
    }
   ],
   "source": [
    "xs = [1, 100]\n",
    "\n",
    "plt.figure(figsize = (10, 7))\n",
    "\n",
    "plt.vlines(x = gene_exon_start_l, ymin = 0, ymax = max(xs),\n",
    "           colors = 'blue',\n",
    "           label = 'vline_multiple - full height')\n",
    "\n",
    "plt.vlines(x = gene_exon_end_l, ymin = 0, ymax = max(xs),\n",
    "           colors = 'red',\n",
    "           label = 'vline_multiple - full height')\n",
    "plt.title(\"ID=10015|G379;Alias=maker-tig00000074-snap-gene-0.6;Name=10015|G379;NLR=TNL\")"
   ]
  },
  {
   "cell_type": "code",
   "execution_count": 10,
   "id": "ef849b14",
   "metadata": {},
   "outputs": [
    {
     "data": {
      "text/plain": [
       "Text(0.5, 1.0, 'ID=10015|G379;Alias=maker-tig00000074-snap-gene-0.6;Name=10015|G379;NLR=TNL')"
      ]
     },
     "execution_count": 10,
     "metadata": {},
     "output_type": "execute_result"
    },
    {
     "data": {
      "image/png": "[encoded data removed]",
      "text/plain": [
       "<Figure size 720x504 with 1 Axes>"
      ]
     },
     "metadata": {
      "needs_background": "light"
     },
     "output_type": "display_data"
    }
   ],
   "source": [
    "combined_l = []\n",
    "for jj, end in enumerate(gene_exon_end_l):\n",
    "    combined_l.append((gene_exon_start_l[jj], end))\n",
    "# print(combined_l)\n",
    "\n",
    "xs = [1, 100]\n",
    "\n",
    "plt.figure(figsize = (10, 7))\n",
    "\n",
    "plt.vlines(x = combined_l[0], ymin = 0, ymax = max(xs),\n",
    "           colors = 'red',\n",
    "           label = 'vline_multiple - full height')\n",
    "\n",
    "plt.vlines(x = combined_l[1], ymin = 0, ymax = max(xs),\n",
    "           colors = 'orange',\n",
    "           label = 'vline_multiple - full height')\n",
    "\n",
    "plt.vlines(x = combined_l[2], ymin = 0, ymax = max(xs),\n",
    "           colors = 'yellow',\n",
    "           label = 'vline_multiple - full height')\n",
    "\n",
    "plt.vlines(x = combined_l[3], ymin = 0, ymax = max(xs),\n",
    "           colors = 'green',\n",
    "           label = 'vline_multiple - full height')\n",
    "\n",
    "plt.vlines(x = combined_l[4], ymin = 0, ymax = max(xs),\n",
    "           colors = 'blue',\n",
    "           label = 'vline_multiple - full height')\n",
    "\n",
    "plt.vlines(x = combined_l[5], ymin = 0, ymax = max(xs),\n",
    "           colors = 'purple',\n",
    "           label = 'vline_multiple - full height')\n",
    "\n",
    "plt.vlines(x = combined_l[6], ymin = 0, ymax = max(xs),\n",
    "           colors = 'pink',\n",
    "           label = 'vline_multiple - full height')\n",
    "plt.title(\"ID=10015|G379;Alias=maker-tig00000074-snap-gene-0.6;Name=10015|G379;NLR=TNL\")"
   ]
  },
  {
   "cell_type": "code",
   "execution_count": null,
   "id": "2a4c0fe6",
   "metadata": {},
   "outputs": [],
   "source": []
  }
 ],
 "metadata": {
  "kernelspec": {
   "display_name": "Python 3 (ipykernel)",
   "language": "python",
   "name": "python3"
  },
  "language_info": {
   "codemirror_mode": {
    "name": "ipython",
    "version": 3
   },
   "file_extension": ".py",
   "mimetype": "text/x-python",
   "name": "python",
   "nbconvert_exporter": "python",
   "pygments_lexer": "ipython3",
   "version": "3.9.12"
  }
 },
 "nbformat": 4,
 "nbformat_minor": 5
}
